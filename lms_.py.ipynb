{
 "cells": [
  {
   "cell_type": "code",
   "execution_count": 1,
   "metadata": {},
   "outputs": [],
   "source": [
    "#set alpha\n",
    "#initialise w with random numbers\n",
    "#set E to a large value (Emax)\n",
    "#iter = 0 \n",
    "#Repeat for until E < Emax or iter < maxIter\n",
    "#  E = 0\n",
    "#  for all training patterns {(x, d)}\n",
    "     # output y = Wx\n",
    "     # w = w + alpha*(d-y)*x\n"
   ]
  },
  {
   "cell_type": "code",
   "execution_count": 2,
   "metadata": {},
   "outputs": [],
   "source": [
    "import numpy as np \n",
    "import matplotlib.pyplot as plt\n",
    "import random"
   ]
  },
  {
   "cell_type": "code",
   "execution_count": 3,
   "metadata": {},
   "outputs": [],
   "source": [
    "#weight_vector = np.zeros(3)\n",
    "#w = np.array([0.1, 0.1, 0.1]) #25 weights"
   ]
  },
  {
   "cell_type": "code",
   "execution_count": 4,
   "metadata": {},
   "outputs": [],
   "source": [
    "error_grp = []\n",
    "iter_grp = []\n",
    "#initialise the training patterns\n",
    "training = [[np.array([-0.5, 1.2, -0.1]).transpose(), 0.2], [np.array([0.7, -0.5, -0.2]).transpose(), -0.8], [np.array([0.3, 1.2, 2.3]).transpose(), 0.8], \n",
    "            [np.array([1.2, 0.8, 1.0]).transpose(), 0.4], [np.array([-0.5, 1.2, -0.1]).transpose(), -0.2],\n",
    "            [np.array([1.0, -0.3, 0.5]).transpose(), -0.1]]"
   ]
  },
  {
   "cell_type": "code",
   "execution_count": null,
   "metadata": {},
   "outputs": [],
   "source": [
    "def lms(w): \n",
    "  i = 0\n",
    "  alpha = [0.1, 0.01, 0.001]\n",
    "  Emax = 10000000000000000000000000\n",
    "  maxIter = 500\n",
    "  E = 0\n",
    "  while ((i < maxIter) and (E < Emax)):\n",
    "    E = 0\n",
    "    for pair in training:\n",
    "      y = np.dot(w.transpose(), pair[0])\n",
    "      #print('y: ')\n",
    "      #print(y)\n",
    "      #print('==================')\n",
    "      w = w + np.dot((alpha[2]*(pair[1] - y)), pair[0])\n",
    "      #print('weight: ' + str(w))\n",
    "      E = E + np.power((pair[1] - y), 2)\n",
    "      #print('Error: ' + str(E))\n",
    "    #Put the error in the array after going thru the whole training pattern\n",
    "    error_grp.append(E)\n",
    "    iter_grp.append(i)\n",
    "    i = i + 1\n",
    "  #print('i: ' + str(i))\n",
    "\n",
    "  print('Final error: ' + str(E))\n",
    "  print('final weight: ' + str(w))\n",
    "\n",
    "w = []\n",
    "for x in range(25):\n",
    "  for y in range(3):\n",
    "    val = round(random.random(), 1)\n",
    "    print(val)\n",
    "    w.append(val)\n",
    "  weight_vector = np.array(w)\n",
    "  print('Weight vector: ' + str(weight_vector))\n",
    "  lms(weight_vector)\n",
    "  w = []\n",
    "#Draw the graph\n",
    "plt.plot(iter_grp, error_grp)\n",
    "plt.ylabel('Error')\n",
    "plt.xlabel('No. of iterations')\n",
    "plt.show()"
   ]
  }
 ],
 "metadata": {
  "kernelspec": {
   "display_name": "Python 3",
   "language": "python",
   "name": "python3"
  },
  "language_info": {
   "codemirror_mode": {
    "name": "ipython",
    "version": 3
   },
   "file_extension": ".py",
   "mimetype": "text/x-python",
   "name": "python",
   "nbconvert_exporter": "python",
   "pygments_lexer": "ipython3",
   "version": "3.7.0"
  }
 },
 "nbformat": 4,
 "nbformat_minor": 2
}
